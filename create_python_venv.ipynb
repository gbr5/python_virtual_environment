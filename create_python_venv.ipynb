{
 "cells": [
  {
   "cell_type": "markdown",
   "metadata": {},
   "source": [
    "# Create a Virtual Environment"
   ]
  },
  {
   "cell_type": "code",
   "execution_count": null,
   "metadata": {
    "vscode": {
     "languageId": "shellscript"
    }
   },
   "outputs": [],
   "source": [
    "# Note that the second venv is the name of your virtual environment.\n",
    "# I'm using venv aswell, but you can choose any name that you want\n",
    "python3 -m venv venv"
   ]
  },
  {
   "cell_type": "markdown",
   "metadata": {},
   "source": [
    "# Activating your Virtual Environment"
   ]
  },
  {
   "cell_type": "code",
   "execution_count": null,
   "metadata": {
    "vscode": {
     "languageId": "shellscript"
    }
   },
   "outputs": [],
   "source": [
    "# The venv below is actually the name you chose at the prior step\n",
    "source venv/Scripts/activate"
   ]
  },
  {
   "cell_type": "markdown",
   "metadata": {},
   "source": [
    "## Things might be different for mac users\n",
    "\n",
    "If that doesn't work, you can try to access the \"preferences: Open Settings (JSON)\" file\n",
    "\n",
    "* you can do that through the command \"command\"+\"shift\"+\"p\", then writing settings, it should be one of the firsts options, if not the first.\n",
    "\n",
    "Then adding the following line to the and of the file"
   ]
  },
  {
   "cell_type": "raw",
   "metadata": {},
   "source": [
    "{\n",
    "    ...,\n",
    "    // Allows vscode to access the python virtual environment of the project\n",
    "    \"python.terminal.activateEnvInCurrentTerminal\": true\n",
    "}"
   ]
  },
  {
   "cell_type": "markdown",
   "metadata": {},
   "source": [
    "## If things still aren't working for you\n",
    "\n",
    "If you are still having a hard time, try access the vscode page through this link\n",
    "https://code.visualstudio.com/docs/python/environments"
   ]
  },
  {
   "cell_type": "markdown",
   "metadata": {},
   "source": [
    "# Deactivate Virtual Enviromnment"
   ]
  },
  {
   "cell_type": "code",
   "execution_count": null,
   "metadata": {
    "vscode": {
     "languageId": "shellscript"
    }
   },
   "outputs": [],
   "source": [
    "# When you are finished working on your project for the day,\n",
    "# you can shut the virtual environment off by running the command below\n",
    "deactivate"
   ]
  }
 ],
 "metadata": {
  "language_info": {
   "name": "python"
  },
  "orig_nbformat": 4
 },
 "nbformat": 4,
 "nbformat_minor": 2
}
